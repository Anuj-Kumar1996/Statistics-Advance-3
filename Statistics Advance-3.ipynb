{
 "cells": [
  {
   "cell_type": "markdown",
   "id": "007690d0",
   "metadata": {},
   "source": [
    "Q1: What is Estimation Statistics? Explain point estimate and interval estimate.\n",
    "\n",
    "\n",
    "Estimation statistics is a branch of inferential statistics that deals with estimating population parameters based on sample data. When it is not feasible or practical to collect data from an entire population, statisticians use sample data to make inferences about the population of interest. Estimation involves using the information from the sample to make educated guesses about the unknown population parameters.\n",
    "\n",
    "There are two main types of estimates: point estimates and interval estimates.\n",
    "\n",
    "Point Estimate:\n",
    "A point estimate is a single value that serves as the best guess or estimate for the unknown population parameter. It is calculated using the sample data and represents the most probable value for the parameter. For example, if you want to estimate the average height of all students in a school, you could take a random sample of students and calculate the mean height of that sample. This mean height would be the point estimate for the average height of all students in the school.\n",
    "Point estimates are straightforward to calculate and provide a useful summary of the data. However, they do not provide any information about the uncertainty associated with the estimate.\n",
    "\n",
    "Interval Estimate (Confidence Interval):\n",
    "An interval estimate, also known as a confidence interval, provides a range of values within which the unknown population parameter is likely to lie, along with a level of confidence associated with the estimate. It gives an indication of the uncertainty associated with the estimate. Confidence intervals are often represented as a range with an upper and lower bound.\n",
    "\n",
    "\n"
   ]
  },
  {
   "cell_type": "markdown",
   "id": "e4f8d77d",
   "metadata": {},
   "source": [
    "Q@. What is Hypothesis testing? Why is it used? State the importance of Hypothesis testing.\n",
    "\n",
    "\n",
    "\n",
    "Hypothesis testing is a statistical method used to make decisions about population parameters based on sample data. It is a fundamental tool in inferential statistics and plays a crucial role in drawing conclusions and making inferences about a larger population from a smaller sample.\n",
    "\n",
    "The primary steps involved in hypothesis testing are as follows:\n",
    "\n",
    "Formulate hypotheses: The process begins by setting up two competing hypotheses: the null hypothesis (H0) and the alternative hypothesis (Ha). The null hypothesis typically represents the status quo or no effect, while the alternative hypothesis represents the claim or the effect of interest.\n",
    "\n",
    "Choose a significance level: The significance level (often denoted by α) is the probability of rejecting the null hypothesis when it is true. It is predetermined and sets the threshold for making a decision. Commonly used values for α are 0.05 (5%) and 0.01 (1%).\n",
    "\n",
    "Collect and analyze data: Data is collected from a sample, and the appropriate statistical test is performed based on the type of data and the hypothesis being tested.\n",
    "\n",
    "Calculate the test statistic: The test statistic is a numerical value calculated from the sample data that measures how well the data align with the null hypothesis.\n",
    "\n",
    "Make a decision: Compare the test statistic with the critical value (for a specific significance level) or calculate the p-value. If the test statistic falls in the critical region or the p-value is less than the chosen significance level, the null hypothesis is rejected in favor of the alternative hypothesis. Otherwise, the null hypothesis is not rejected.\n",
    "\n",
    "The Importance of Hypothesis Testing:\n",
    "\n",
    "Inference about populations: Hypothesis testing allows researchers and analysts to draw conclusions about entire populations based on data from a representative sample. This is especially crucial when it is not feasible or practical to collect data from the entire population.\n",
    "\n",
    "Objective decision-making: Hypothesis testing provides an objective and rigorous framework for making decisions. It avoids decisions based solely on intuition or anecdotal evidence.\n",
    "\n",
    "Scientific research: Hypothesis testing is a cornerstone of scientific research. It is used to test theories, evaluate the effectiveness of interventions or treatments, and draw meaningful conclusions from experimental data.\n",
    "\n",
    "Business and industry: In business and industry, hypothesis testing is used for data-driven decision-making. It helps assess the impact of marketing strategies, product enhancements, and process improvements.\n",
    "\n",
    "Quality control: Hypothesis testing is vital in quality control processes, where it is used to determine if a production process meets specified standards or if adjustments are needed to improve product quality.\n",
    "\n",
    "Medical and healthcare applications: Hypothesis testing is employed to evaluate the effectiveness of medical treatments, pharmaceutical drugs, or medical interventions in clinical trials.\n",
    "\n",
    "In summary, hypothesis testing is a powerful statistical tool used to make informed decisions about population parameters based on sample data. Its applications span various fields, including scientific research, business, industry, healthcare, and quality control, providing critical insights and enabling evidence-based decision-making.\n",
    "\n",
    "\n",
    "\n",
    "\n",
    "\n"
   ]
  },
  {
   "cell_type": "markdown",
   "id": "870b5890",
   "metadata": {},
   "source": [
    "Q4. Create a hypothesis that states whether the average weight of male college students is greater than\n",
    "the average weight of female college students.\n",
    "\n",
    "\n",
    "Null Hypothesis (H0): The average weight of male college students is not greater than the average weight of female college students.\n",
    "\n",
    "Alternative Hypothesis (Ha): The average weight of male college students is greater than the average weight of female college students.\n",
    "\n",
    "In symbols:\n",
    "\n",
    "H0: μ_male <= μ_female\n",
    "\n",
    "Ha: μ_male > μ_female\n",
    "\n",
    "Where:\n",
    "\n",
    "H0 represents the null hypothesis\n",
    "Ha represents the alternative hypothesis\n",
    "μ_male represents the population mean weight of male college students\n",
    "μ_female represents the population mean weight of female college students\n",
    "This hypothesis can be tested using sample data collected from male and female college students. Statistical methods, such as t-test or z-test, can be used to determine whether there is enough evidence to reject the null hypothesis in favor of the alternative hypothesis, indicating that the average weight of male college students is indeed greater than the average weight of female college students.\n",
    "\n",
    "\n",
    "\n",
    "\n"
   ]
  },
  {
   "cell_type": "markdown",
   "id": "c1325683",
   "metadata": {},
   "source": [
    "Q5. Write a Python script to conduct a hypothesis test on the difference between two population means,\n",
    "given a sample from each population.\n",
    "\n",
    "\n"
   ]
  },
  {
   "cell_type": "code",
   "execution_count": 2,
   "id": "1e48d76b",
   "metadata": {},
   "outputs": [
    {
     "name": "stdout",
     "output_type": "stream",
     "text": [
      "T-Statistic: 6.520113423068347\n",
      "P-Value: 3.953967021438563e-06\n",
      "Reject the null hypothesis. There is a significant difference between the population means.\n"
     ]
    }
   ],
   "source": [
    "import numpy as np\n",
    "from scipy.stats import ttest_ind\n",
    "\n",
    "# Sample data from the first population\n",
    "sample1 = np.array([56, 60, 65, 58, 62, 55, 63, 59, 61, 57])\n",
    "\n",
    "# Sample data from the second population\n",
    "sample2 = np.array([50, 53, 48, 52, 49, 55, 51, 53, 54, 50])\n",
    "\n",
    "# Set the significance level (alpha)\n",
    "alpha = 0.05\n",
    "\n",
    "# Perform the t-test\n",
    "t_statistic, p_value = ttest_ind(sample1, sample2)\n",
    "\n",
    "# Print the results\n",
    "print(\"T-Statistic:\", t_statistic)\n",
    "print(\"P-Value:\", p_value)\n",
    "\n",
    "# Compare the p-value with the significance level to make a decision\n",
    "if p_value < alpha:\n",
    "    print(\"Reject the null hypothesis. There is a significant difference between the population means.\")\n",
    "else:\n",
    "    print(\"Fail to reject the null hypothesis. There is no significant difference between the population means.\")\n"
   ]
  },
  {
   "cell_type": "markdown",
   "id": "163b1a38",
   "metadata": {},
   "source": [
    "What is a null and alternative hypothesis? Give some examples.\n",
    "\n",
    "\n",
    "In statistics, the null hypothesis (H0) and alternative hypothesis (Ha) are two competing statements or claims about a population parameter that we want to test based on sample data. The null hypothesis represents the status quo or the default assumption, while the alternative hypothesis represents the claim or effect of interest. Hypothesis testing helps us determine whether there is enough evidence in the sample data to support the alternative hypothesis over the null hypothesis.\n",
    "\n",
    "Here are some examples of null and alternative hypotheses:\n",
    "\n",
    "Example 1 (One-Sample Test):\n",
    "\n",
    "Null Hypothesis (H0): The average weight of all college students is 150 pounds.\n",
    "Alternative Hypothesis (Ha): The average weight of all college students is not 150 pounds.\n",
    "\n",
    "In this example, we want to test if the average weight of all college students is significantly different from 150 pounds.\n",
    "\n",
    "Example 2 (Two-Sample Test):\n",
    "\n",
    "Null Hypothesis (H0): The mean scores of two groups (e.g., male and female) are the same.\n",
    "Alternative Hypothesis (Ha): The mean scores of two groups are different.\n",
    "\n",
    "In this example, we want to test if there is a significant difference in the mean scores of two groups.\n",
    "\n",
    "Example 3 (One-Sided Test):\n",
    "\n",
    "Null Hypothesis (H0): A new drug has no effect on patients' recovery time.\n",
    "Alternative Hypothesis (Ha): The new drug reduces patients' recovery time.\n",
    "\n",
    "In this example, we are interested in testing if the new drug has a beneficial effect on patients' recovery time.\n",
    "\n",
    "Example 4 (Correlation Test):\n",
    "\n",
    "Null Hypothesis (H0): There is no correlation between hours of study and exam scores.\n",
    "Alternative Hypothesis (Ha): There is a significant correlation between hours of study and exam scores.\n",
    "\n",
    "In this example, we want to test if there is a significant correlation between the number of hours a student studies and their exam scores.\n",
    "\n",
    "It's important to note that the null hypothesis often includes equality (e.g., equal means, no effect), while the alternative hypothesis typically states the opposite (e.g., different means, significant effect). Hypothesis testing helps in making data-driven decisions and drawing conclusions based on evidence from sample data. The results of the hypothesis test lead to either rejecting the null hypothesis in favor of the alternative hypothesis or failing to reject the null hypothesis based on the strength of evidence provided by the data."
   ]
  },
  {
   "cell_type": "markdown",
   "id": "610091bb",
   "metadata": {},
   "source": [
    "Q7: Write down the steps involved in hypothesis testing.\n",
    "    \n",
    "    Certainly! Here are the steps involved in hypothesis testing:\n",
    "\n",
    "Step 1: Formulate the Hypotheses\n",
    "\n",
    "State the null hypothesis (H0): This is the default assumption, often stating that there is no effect, no difference, or no relationship between variables in the population.\n",
    "State the alternative hypothesis (Ha): This represents the claim or effect of interest, opposite to the null hypothesis.\n",
    "Step 2: Set the Significance Level (Alpha)\n",
    "\n",
    "Choose a significance level (α) to determine the threshold for making a decision. Commonly used values are 0.05 (5%) or 0.01 (1%).\n",
    "Step 3: Collect and Analyze the Data\n",
    "\n",
    "Collect a sample from the population of interest.\n",
    "Perform appropriate statistical analysis based on the nature of the data and the hypothesis being tested. This may involve calculating means, proportions, correlations, or using t-tests, ANOVA, chi-square tests, etc.\n",
    "Step 4: Calculate the Test Statistic\n",
    "\n",
    "Compute the test statistic based on the sample data. The test statistic quantifies the difference between the sample results and the null hypothesis.\n",
    "Step 5: Determine the Critical Region or P-Value\n",
    "\n",
    "For the chosen significance level, find the critical value from the appropriate statistical table (for critical region approach) or calculate the p-value (for p-value approach).\n",
    "The critical region contains values of the test statistic that lead to rejecting the null hypothesis.\n",
    "The p-value is the probability of observing data as extreme as the sample results (or more extreme) assuming the null hypothesis is true. A smaller p-value indicates stronger evidence against the null hypothesis.\n",
    "Step 6: Make a Decision\n",
    "\n",
    "If the test statistic falls within the critical region (or if the p-value is less than α), reject the null hypothesis in favor of the alternative hypothesis.\n",
    "If the test statistic does not fall within the critical region (or if the p-value is greater than or equal to α), fail to reject the null hypothesis.\n",
    "Step 7: Interpret the Results\n",
    "\n",
    "Based on the decision made in Step 6, interpret the results in the context of the problem.\n",
    "If the null hypothesis is rejected, support the alternative hypothesis and draw appropriate conclusions.\n",
    "If the null hypothesis is not rejected, refrain from making strong conclusions and consider further investigations if needed.\n",
    "The process of hypothesis testing helps in making data-driven decisions and drawing valid conclusions about population parameters using sample data. It provides a formal framework for testing hypotheses and determining the significance of results in a wide range of scientific, business, and research applications.\n",
    "    "
   ]
  },
  {
   "cell_type": "markdown",
   "id": "3ec09147",
   "metadata": {},
   "source": [
    "Q8. Define p-value and explain its significance in hypothesis testing.\n",
    "\n",
    "\n",
    "In statistics, the p-value, or probability value, is a measure that helps determine the strength of evidence against a null hypothesis in hypothesis testing. The null hypothesis (H0) is a statement that there is no effect, no difference, or no relationship between variables, while the alternative hypothesis (Ha) suggests otherwise.\n",
    "\n",
    "Here's how the p-value works and its significance in hypothesis testing:\n",
    "\n",
    "Calculation: When conducting a statistical test, such as a t-test or chi-squared test, the test statistic is calculated based on the observed data. This test statistic measures the extent to which the observed data deviate from what would be expected under the null hypothesis.\n",
    "\n",
    "Probability: The p-value is the probability of observing a test statistic as extreme as, or more extreme than, the one calculated from the data, assuming that the null hypothesis is true. In other words, it quantifies the likelihood of obtaining the observed data, or more extreme data, if the null hypothesis is actually correct.\n",
    "\n",
    "Interpretation: A small p-value (typically smaller than a chosen significance level, often denoted as α) suggests that the observed data are unlikely to have occurred by chance alone, assuming the null hypothesis is true. This leads to the rejection of the null hypothesis in favor of the alternative hypothesis. Conversely, a large p-value indicates that the observed data are reasonably likely to have occurred by chance, so there is insufficient evidence to reject the null hypothesis.\n",
    "\n",
    "Decision: Researchers often set a significance level (α) before conducting the test. If the p-value is smaller than α, the result is considered statistically significant, and the null hypothesis is rejected in favor of the alternative hypothesis. If the p-value is larger than α, the result is not statistically significant, and there is no strong evidence to reject the null hypothesis.\n",
    "\n",
    "Significance: The p-value does not provide an exact measure of the strength of the effect or the size of the difference; it only informs whether the observed effect is likely due to random chance. Therefore, a small p-value does not directly quantify the practical importance or magnitude of an effect."
   ]
  },
  {
   "cell_type": "markdown",
   "id": "b112c4ed",
   "metadata": {},
   "source": [
    "Q9. Generate a Student's t-distribution plot using Python's matplotlib library, with the degrees of freedom\n",
    "parameter set to 10."
   ]
  },
  {
   "cell_type": "code",
   "execution_count": 1,
   "id": "e1957db7",
   "metadata": {},
   "outputs": [
    {
     "data": {
      "image/png": "[encoded data removed]",
      "text/plain": [
       "<Figure size 800x600 with 1 Axes>"
      ]
     },
     "metadata": {},
     "output_type": "display_data"
    }
   ],
   "source": [
    "import numpy as np\n",
    "import matplotlib.pyplot as plt\n",
    "from scipy.stats import t\n",
    "\n",
    "# Set the degrees of freedom\n",
    "degrees_of_freedom = 10\n",
    "\n",
    "# Generate data points for x-axis\n",
    "x = np.linspace(-4, 4, 1000)\n",
    "\n",
    "# Compute the probability density function (PDF) of the t-distribution\n",
    "pdf = t.pdf(x, df=degrees_of_freedom)\n",
    "\n",
    "# Create a plot\n",
    "plt.figure(figsize=(8, 6))\n",
    "plt.plot(x, pdf, label=f\"t-distribution (df={degrees_of_freedom})\")\n",
    "\n",
    "# Add labels and title\n",
    "plt.xlabel('x')\n",
    "plt.ylabel('Probability Density')\n",
    "plt.title(f\"Student's t-Distribution (Degrees of Freedom = {degrees_of_freedom})\")\n",
    "plt.legend()\n",
    "\n",
    "# Display the plot\n",
    "plt.show()\n"
   ]
  },
  {
   "cell_type": "markdown",
   "id": "c92e6587",
   "metadata": {},
   "source": [
    "Q10. Write a Python program to calculate the two-sample t-test for independent samples, given two\n",
    "random samples of equal size and a null hypothesis that the population means are equal."
   ]
  },
  {
   "cell_type": "code",
   "execution_count": 2,
   "id": "3ba60016",
   "metadata": {},
   "outputs": [
    {
     "name": "stdout",
     "output_type": "stream",
     "text": [
      "Sample 1: [-1.24243981  0.55591947 -0.8676834   0.7408439  -1.66460579  0.26496751\n",
      " -0.99709693  2.44958853 -0.89765111 -0.35749251  0.23802187  1.21659702\n",
      "  0.2653766   1.30729942  0.06371431 -0.64088193 -0.31640724 -1.44269468\n",
      " -0.91490596 -0.30254586 -1.11391474 -1.85205661  0.81039097 -0.96396987\n",
      " -0.57195382  1.54453389  2.34688445  0.89507234  0.63212343  0.84803921]\n",
      "Sample 2: [-0.56289567  0.63575313  0.62665665 -0.68483131 -1.85483148  0.77642992\n",
      "  0.26047955  0.72169548 -1.40184622 -0.8784932   0.83520312 -0.67497981\n",
      "  0.51913508  0.70325669 -0.48803007 -1.23306121  0.4599124   1.28658382\n",
      " -0.14002304 -0.62949256  0.55472903  0.20329609  0.8473735   0.76779124\n",
      " -0.40864174 -0.87423195  1.84336224 -0.36758926  0.04932347 -0.58945099]\n",
      "T-Statistic: -0.03463272693256371\n",
      "P-Value: 0.9724915210390674\n",
      "Fail to reject the null hypothesis. There is no significant difference between the population means.\n"
     ]
    }
   ],
   "source": [
    "import numpy as np\n",
    "from scipy.stats import ttest_ind\n",
    "\n",
    "# Generate two random samples of equal size\n",
    "sample_size = 30\n",
    "sample1 = np.random.randn(sample_size)\n",
    "sample2 = np.random.randn(sample_size)\n",
    "\n",
    "# Perform the two-sample t-test\n",
    "t_statistic, p_value = ttest_ind(sample1, sample2)\n",
    "\n",
    "# Define the significance level\n",
    "alpha = 0.05\n",
    "\n",
    "# Print the results\n",
    "print(\"Sample 1:\", sample1)\n",
    "print(\"Sample 2:\", sample2)\n",
    "print(\"T-Statistic:\", t_statistic)\n",
    "print(\"P-Value:\", p_value)\n",
    "\n",
    "# Determine if the null hypothesis is rejected\n",
    "if p_value < alpha:\n",
    "    print(\"Reject the null hypothesis. There is a significant difference between the population means.\")\n",
    "else:\n",
    "    print(\"Fail to reject the null hypothesis. There is no significant difference between the population means.\")\n"
   ]
  },
  {
   "cell_type": "markdown",
   "id": "a3fae826",
   "metadata": {},
   "source": [
    "\n",
    "\n",
    "\n",
    "\n",
    "Q11: What is Student’s t distribution? When to use the t-Distribution."
   ]
  },
  {
   "cell_type": "markdown",
   "id": "b3904065",
   "metadata": {},
   "source": [
    "Student's t-distribution, often referred to simply as the t-distribution, is a probability distribution that arises in statistics. It is used in hypothesis testing, confidence interval estimation, and other statistical analyses when dealing with small sample sizes and when the population standard deviation is unknown.\n",
    "\n",
    "The t-distribution is similar in shape to the standard normal distribution (Z-distribution), but it has heavier tails. As the sample size increases, the t-distribution approaches the standard normal distribution. The exact shape of the t-distribution depends on the degrees of freedom, which are determined by the sample size.\n",
    "\n",
    "When to use the t-distribution:\n",
    "\n",
    "Small Sample Sizes: The t-distribution is particularly useful when working with small sample sizes (typically less than 30) where the sample size is not large enough for the central limit theorem to apply. In such cases, the t-distribution provides more accurate estimates of the population parameters.\n",
    "\n",
    "Unknown Population Standard Deviation: When the population standard deviation is unknown and must be estimated from the sample, the t-distribution is used instead of the standard normal distribution. This is common when performing inference on the population mean.\n",
    "\n",
    "Hypothesis Testing: The t-distribution is used in hypothesis testing for comparing sample means from two independent groups (two-sample t-test) or for comparing a sample mean to a known or hypothesized population mean (one-sample t-test).\n",
    "\n",
    "Confidence Intervals: The t-distribution is used to calculate confidence intervals for population parameters, such as the population mean, when dealing with small sample sizes or when the population standard deviation is unknown.\n",
    "\n",
    "Regression Analysis: In linear regression analysis, the t-distribution is used for testing the significance of regression coefficients and constructing confidence intervals for them.\n",
    "\n",
    "Quality Control and Process Control: The t-distribution is often used in quality control and process control to analyze and monitor the variability in processes, especially when the sample sizes are small."
   ]
  },
  {
   "cell_type": "markdown",
   "id": "fc2d288f",
   "metadata": {},
   "source": [
    "Q13. A coffee shop owner wants to estimate the average daily revenue for their shop. They take a random\n",
    "sample of 50 days and find the sample mean revenue to be $500 with a standard deviation of $50.\n",
    "Estimate the population mean revenue with a 95% confidence interval."
   ]
  },
  {
   "cell_type": "code",
   "execution_count": 3,
   "id": "65bbe93f",
   "metadata": {},
   "outputs": [
    {
     "name": "stdout",
     "output_type": "stream",
     "text": [
      "Sample Mean: 500\n",
      "Confidence Interval: (485.79015724388137, 514.2098427561186)\n"
     ]
    }
   ],
   "source": [
    "import scipy.stats as stats\n",
    "\n",
    "# Given data\n",
    "sample_mean = 500  # x̄\n",
    "sample_std_dev = 50  # s\n",
    "sample_size = 50  # n\n",
    "confidence_level = 0.95\n",
    "\n",
    "# Calculate the critical value (t) from the t-distribution\n",
    "degrees_of_freedom = sample_size - 1\n",
    "critical_value = stats.t.ppf((1 + confidence_level) / 2, df=degrees_of_freedom)\n",
    "\n",
    "# Calculate the margin of error\n",
    "margin_of_error = critical_value * (sample_std_dev / (sample_size ** 0.5))\n",
    "\n",
    "# Calculate the confidence interval\n",
    "confidence_interval_lower = sample_mean - margin_of_error\n",
    "confidence_interval_upper = sample_mean + margin_of_error\n",
    "\n",
    "# Print the results\n",
    "print(\"Sample Mean:\", sample_mean)\n",
    "print(\"Confidence Interval:\", (confidence_interval_lower, confidence_interval_upper))\n"
   ]
  },
  {
   "cell_type": "markdown",
   "id": "7b689f04",
   "metadata": {},
   "source": [
    "Q14. A researcher hypothesizes that a new drug will decrease blood pressure by 10 mmHg. They conduct a\n",
    "clinical trial with 100 patients and find that the sample mean decrease in blood pressure is 8 mmHg with a\n",
    "standard deviation of 3 mmHg. Test the hypothesis with a significance level of 0.05."
   ]
  },
  {
   "cell_type": "code",
   "execution_count": 4,
   "id": "4612f1a0",
   "metadata": {},
   "outputs": [
    {
     "name": "stdout",
     "output_type": "stream",
     "text": [
      "Reject the null hypothesis. There is enough evidence to suggest the drug decreases blood pressure.\n"
     ]
    }
   ],
   "source": [
    "import scipy.stats as stats\n",
    "\n",
    "# Given data\n",
    "sample_size = 100\n",
    "sample_mean = 8\n",
    "sample_std_dev = 3\n",
    "hypothesized_mean_diff = 10\n",
    "significance_level = 0.05\n",
    "\n",
    "# Calculate the t-statistic\n",
    "t_statistic = (sample_mean - hypothesized_mean_diff) / (sample_std_dev / (sample_size ** 0.5))\n",
    "\n",
    "# Calculate the degrees of freedom\n",
    "degrees_of_freedom = sample_size - 1\n",
    "\n",
    "# Calculate the critical t-value for a one-tailed test\n",
    "critical_t_value = stats.t.ppf(1 - significance_level, df=degrees_of_freedom)\n",
    "\n",
    "# Compare the t-statistic with the critical t-value\n",
    "if t_statistic < -critical_t_value or t_statistic > critical_t_value:\n",
    "    print(\"Reject the null hypothesis. There is enough evidence to suggest the drug decreases blood pressure.\")\n",
    "else:\n",
    "    print(\"Fail to reject the null hypothesis. There is not enough evidence to suggest the drug decreases blood pressure.\")\n"
   ]
  },
  {
   "cell_type": "markdown",
   "id": "f5f674ab",
   "metadata": {},
   "source": [
    "Q15. An electronics company produces a certain type of product with a mean weight of 5 pounds and a\n",
    "standard deviation of 0.5 pounds. A random sample of 25 products is taken, and the sample mean weight\n",
    "is found to be 4.8 pounds. Test the hypothesis that the true mean weight of the products is less than 5\n",
    "pounds with a significance level of 0.01."
   ]
  },
  {
   "cell_type": "code",
   "execution_count": 5,
   "id": "05f62782",
   "metadata": {},
   "outputs": [
    {
     "name": "stdout",
     "output_type": "stream",
     "text": [
      "Reject the null hypothesis. There is enough evidence to suggest that the true mean weight is less than 5 pounds.\n"
     ]
    }
   ],
   "source": [
    "import scipy.stats as stats\n",
    "\n",
    "# Given data\n",
    "population_mean = 5\n",
    "population_std_dev = 0.5\n",
    "sample_size = 25\n",
    "sample_mean = 4.8\n",
    "significance_level = 0.01\n",
    "\n",
    "# Calculate the t-statistic\n",
    "t_statistic = (sample_mean - population_mean) / (population_std_dev / (sample_size ** 0.5))\n",
    "\n",
    "# Calculate the degrees of freedom\n",
    "degrees_of_freedom = sample_size - 1\n",
    "\n",
    "# Calculate the critical t-value for a lower-tailed test\n",
    "critical_t_value = stats.t.ppf(significance_level, df=degrees_of_freedom)\n",
    "\n",
    "# Compare the t-statistic with the critical t-value\n",
    "if t_statistic < -critical_t_value:\n",
    "    print(\"Reject the null hypothesis. There is enough evidence to suggest that the true mean weight is less than 5 pounds.\")\n",
    "else:\n",
    "    print(\"Fail to reject the null hypothesis. There is not enough evidence to suggest that the true mean weight is less than 5 pounds.\")\n"
   ]
  },
  {
   "cell_type": "markdown",
   "id": "28518f4b",
   "metadata": {},
   "source": [
    "Q16. Two groups of students are given different study materials to prepare for a test. The first group (n1 =\n",
    "30) has a mean score of 80 with a standard deviation of 10, and the second group (n2 = 40) has a mean\n",
    "score of 75 with a standard deviation of 8. Test the hypothesis that the population means for the two\n",
    "groups are equal with a significance level of 0.01."
   ]
  },
  {
   "cell_type": "code",
   "execution_count": 6,
   "id": "dc122006",
   "metadata": {},
   "outputs": [
    {
     "name": "stdout",
     "output_type": "stream",
     "text": [
      "Reject the null hypothesis. There is enough evidence to suggest that the population means are not equal.\n"
     ]
    }
   ],
   "source": [
    "import scipy.stats as stats\n",
    "\n",
    "# Given data for group 1\n",
    "sample_mean_1 = 80\n",
    "sample_std_dev_1 = 10\n",
    "sample_size_1 = 30\n",
    "\n",
    "# Given data for group 2\n",
    "sample_mean_2 = 75\n",
    "sample_std_dev_2 = 8\n",
    "sample_size_2 = 40\n",
    "\n",
    "# Significance level\n",
    "significance_level = 0.01\n",
    "\n",
    "# Calculate the pooled standard deviation\n",
    "pooled_std_dev = ((sample_std_dev_1**2 / sample_size_1) + (sample_std_dev_2**2 / sample_size_2)) ** 0.5\n",
    "\n",
    "# Calculate the t-statistic\n",
    "t_statistic = (sample_mean_1 - sample_mean_2) / (pooled_std_dev * (1 / sample_size_1 + 1 / sample_size_2) ** 0.5)\n",
    "\n",
    "# Calculate the degrees of freedom\n",
    "degrees_of_freedom = sample_size_1 + sample_size_2 - 2\n",
    "\n",
    "# Calculate the critical t-value for a two-tailed test\n",
    "critical_t_value = stats.t.ppf(1 - significance_level / 2, df=degrees_of_freedom)\n",
    "\n",
    "# Compare the absolute value of the t-statistic with the critical t-value\n",
    "if abs(t_statistic) > critical_t_value:\n",
    "    print(\"Reject the null hypothesis. There is enough evidence to suggest that the population means are not equal.\")\n",
    "else:\n",
    "    print(\"Fail to reject the null hypothesis. There is not enough evidence to suggest that the population means are not equal.\")\n"
   ]
  },
  {
   "cell_type": "markdown",
   "id": "50c579dd",
   "metadata": {},
   "source": [
    "Q17. A marketing company wants to estimate the average number of ads watched by viewers during a TV\n",
    "program. They take a random sample of 50 viewers and find that the sample mean is 4 with a standard\n",
    "deviation of 1.5. Estimate the population mean with a 99% confidence interval."
   ]
  },
  {
   "cell_type": "code",
   "execution_count": 8,
   "id": "4d7df5c9",
   "metadata": {},
   "outputs": [
    {
     "name": "stdout",
     "output_type": "stream",
     "text": [
      "Sample Mean: 4\n",
      "Confidence Level: 99.0%\n",
      "Degrees of Freedom: 49\n",
      "T-Score: 2.67995197363155\n",
      "Margin of Error: 0.5685036641427422\n",
      "Confidence Interval: (3.4314963358572577, 4.568503664142742)\n"
     ]
    }
   ],
   "source": [
    "import scipy.stats as stats\n",
    "import math\n",
    "\n",
    "# Given values\n",
    "sample_mean = 4\n",
    "sample_std_dev = 1.5\n",
    "sample_size = 50\n",
    "confidence_level = 0.99\n",
    "\n",
    "# Calculate the t-score\n",
    "degrees_of_freedom = sample_size - 1\n",
    "t_score = stats.t.ppf(1 - (1 - confidence_level) / 2, degrees_of_freedom)\n",
    "\n",
    "# Calculate the margin of error (MOE)\n",
    "margin_of_error = t_score * (sample_std_dev / math.sqrt(sample_size))\n",
    "\n",
    "# Calculate the confidence interval\n",
    "lower_limit = sample_mean - margin_of_error\n",
    "upper_limit = sample_mean + margin_of_error\n",
    "\n",
    "# Print the results\n",
    "print(f\"Sample Mean: {sample_mean}\")\n",
    "print(f\"Confidence Level: {confidence_level * 100}%\")\n",
    "print(f\"Degrees of Freedom: {degrees_of_freedom}\")\n",
    "print(f\"T-Score: {t_score}\")\n",
    "print(f\"Margin of Error: {margin_of_error}\")\n",
    "print(f\"Confidence Interval: ({lower_limit}, {upper_limit})\")\n"
   ]
  },
  {
   "cell_type": "code",
   "execution_count": null,
   "id": "ee0dedd7",
   "metadata": {},
   "outputs": [],
   "source": []
  },
  {
   "cell_type": "code",
   "execution_count": null,
   "id": "3b772a18",
   "metadata": {},
   "outputs": [],
   "source": []
  }
 ],
 "metadata": {
  "kernelspec": {
   "display_name": "Python 3 (ipykernel)",
   "language": "python",
   "name": "python3"
  },
  "language_info": {
   "codemirror_mode": {
    "name": "ipython",
    "version": 3
   },
   "file_extension": ".py",
   "mimetype": "text/x-python",
   "name": "python",
   "nbconvert_exporter": "python",
   "pygments_lexer": "ipython3",
   "version": "3.9.15"
  }
 },
 "nbformat": 4,
 "nbformat_minor": 5
}
